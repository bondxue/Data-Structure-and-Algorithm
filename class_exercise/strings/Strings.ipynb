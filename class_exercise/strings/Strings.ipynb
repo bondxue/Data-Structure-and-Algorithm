{
 "cells": [
  {
   "cell_type": "markdown",
   "metadata": {
    "graffitiCellId": "id_rxtuffz"
   },
   "source": [
    "# Strings Exercises"
   ]
  },
  {
   "cell_type": "markdown",
   "metadata": {
    "graffitiCellId": "id_zly0vr0"
   },
   "source": [
    "### Introduction "
   ]
  },
  {
   "cell_type": "markdown",
   "metadata": {
    "graffitiCellId": "id_xzj5890"
   },
   "source": [
    "Python Strings are Arrays. They are arrays of bytes representing unicode characters. We can assign a string literal enclosed in a single quotation  (`'Udacity'`) or double quotation  (`\"Udacity\"`) marks to a variable. \n",
    "```\n",
    "str1 = \"Udacity\"\n",
    "```\n",
    "#### Common String Methods\n",
    "Let us see some common methods that we use on string variables. [Refer here for more](https://docs.python.org/3/library/stdtypes.html#string-methods)"
   ]
  },
  {
   "cell_type": "code",
   "execution_count": 1,
   "metadata": {
    "graffitiCellId": "id_z6m99cw"
   },
   "outputs": [
    {
     "name": "stdout",
     "output_type": "stream",
     "text": [
      "7\n",
      "udacity\n",
      "UDACITY\n",
      "dacit\n",
      "Udacit\n",
      "dacity\n",
      "dacit\n",
      "Udacity\n",
      "UdacitB\n",
      "['Welcome', ' Constance!']\n",
      "Welcome, Constance! Udacity\n",
      "Welcome, Constance! You have scored a perfect 100\n",
      "[' ', '!', ',', 'C', 'W', 'a', 'c', 'c', 'e', 'e', 'e', 'l', 'm', 'n', 'n', 'o', 'o', 's', 't']\n"
     ]
    }
   ],
   "source": [
    "str1 = \"Udacity\"\n",
    "\n",
    "\n",
    "# LENGTH\n",
    "print(len(str1))\t\t# 7\n",
    "\n",
    "\n",
    "# CHANGE CASE\n",
    "# The `lower()` and `upper` method returns the string in lower case and upper case respectively\n",
    "print(str1.lower())\t\t# udacity\n",
    "print(str1.upper())\t\t# UDACITY\n",
    "\n",
    "\n",
    "# SLICING\n",
    "# string_var[lower_index : upper_index]\n",
    "# Note that the upper_index is not inclusive.\n",
    "print(str1[1:6]) \t\t# dacit\n",
    "print(str1[:6])\t\t\t# Udacit. A blank index means \"all from that end\"\n",
    "print(str1[1:])\t\t\t# dacity\n",
    "\n",
    "# A negative index means start slicing from the end-of-string\n",
    "print(str1[-6:-1])\t\t# dacit\n",
    "\n",
    "\n",
    "# STRIP\n",
    "# `strip()` removes any whitespace from the beginning or the end\n",
    "str2 = \"    Udacity    \"\n",
    "print(str2.strip())\t\t# Udacity\n",
    "\n",
    "\n",
    "# REPLACE/SUBSTITUTE A CHARACTER IN THE STRING\n",
    "# The replace() method replaces all occurances a character in a string with another character. The input arguments are case-sensitive\n",
    "print(str1.replace('y', \"B\")) #UdacitB\n",
    "\n",
    "\n",
    "# SPLIT INTO SUB-STRINGS\n",
    "# The split() method splits a string into substrings based on the separator that we specify as argument\n",
    "str3 = \"Welcome, Constance!\"\n",
    "print(str3.split(\",\")) # ['Welcome', ' Constance!']\n",
    "\n",
    "\n",
    "# CONCATENATION\n",
    "print(str3 + \" \" + str1) # Welcome, Constance! Udacity\n",
    "marks = 100\n",
    "# print(str3 + \" You have scored a perfect \" + marks) # TypeError: can only concatenate str (not \"int\") to str\n",
    "print(str3 + \" You have scored a perfect \" + format(marks)) # format() method converts the argument as a formatted string\n",
    "\n",
    "\n",
    "# SORT A STRING\n",
    "# We can use sorted() method that sort any instance of *iterable*. The characters are compared based on their ascii value\n",
    "print(sorted(str3)) # [' ', '!', ',', 'C', 'W', 'a', 'c', 'c', 'e', 'e', 'e', 'l', 'm', 'n', 'n', 'o', 'o', 's', 't']\n"
   ]
  },
  {
   "cell_type": "markdown",
   "metadata": {
    "graffitiCellId": "id_2061hpl"
   },
   "source": [
    "Let us do some exercises to practice our work with string manipulation. \n",
    "\n",
    "#### Exercise 1. Reverse Strings"
   ]
  },
  {
   "cell_type": "markdown",
   "metadata": {
    "graffitiCellId": "id_9w3bnlc"
   },
   "source": [
    "In this first exercise, the goal is to write a function that takes a string as input and then returns the reversed string.\n",
    "\n",
    "For example, if the input is the string `\"water\"`, then the output should be `\"retaw\"`.\n",
    "\n",
    "While you're working on the function and trying to figure out how to manipulate the string, it may help to use the `print` statement so you can see the effects of whatever you're trying.\n",
    "\n",
    "Note - You can use built-in method `len()` on the string. "
   ]
  },
  {
   "cell_type": "code",
   "execution_count": 13,
   "metadata": {
    "graffitiCellId": "id_94vaivn"
   },
   "outputs": [],
   "source": [
    "# Code\n",
    "\n",
    "def string_reverser(our_string):\n",
    "\n",
    "    \"\"\"\n",
    "    Reverse the input string\n",
    "\n",
    "    Args:\n",
    "       our_string(string): String to be reversed\n",
    "    Returns:\n",
    "       string: The reversed string\n",
    "    \"\"\"\n",
    "    \n",
    "    # TODO: Write your solution here\n",
    "    new_str = \"\"\n",
    "    for i in range(len(our_string)):\n",
    "        new_str += our_string[len(our_string)-i-1]\n",
    "    \n",
    "    return new_str"
   ]
  },
  {
   "cell_type": "code",
   "execution_count": 14,
   "metadata": {
    "graffitiCellId": "id_5a1sq4g"
   },
   "outputs": [
    {
     "name": "stdout",
     "output_type": "stream",
     "text": [
      "Pass\n",
      "Pass\n",
      "Pass\n"
     ]
    }
   ],
   "source": [
    "# Test Cases\n",
    "\n",
    "print (\"Pass\" if ('retaw' == string_reverser('water')) else \"Fail\")\n",
    "print (\"Pass\" if ('!noitalupinam gnirts gnicitcarP' == string_reverser('Practicing string manipulation!')) else \"Fail\")\n",
    "print (\"Pass\" if ('3432 :si edoc esuoh ehT' == string_reverser('The house code is: 2343')) else \"Fail\")"
   ]
  },
  {
   "cell_type": "markdown",
   "metadata": {
    "graffitiCellId": "id_5y1c1sk"
   },
   "source": [
    "<span class=\"graffiti-highlight graffiti-id_5y1c1sk-id_8u3k1ve\"><i></i><button>Hide Solution</button></span>"
   ]
  },
  {
   "cell_type": "code",
   "execution_count": null,
   "metadata": {
    "graffitiCellId": "id_8u3k1ve"
   },
   "outputs": [],
   "source": [
    "# Solution\n",
    "\n",
    "def string_reverser(our_string):\n",
    "\n",
    "    \"\"\"\n",
    "    Reverse the input string\n",
    "\n",
    "    Args:\n",
    "       our_string(string): String to be reversed\n",
    "    Returns:\n",
    "       string: The reversed string\n",
    "    \"\"\"\n",
    "\n",
    "    # New empty string for us to build on\n",
    "    new_string = \"\"\n",
    "\n",
    "    # Iterate over old string\n",
    "    for i in range(len(our_string)):\n",
    "        # Grab the charecter from the back of the string and add them to the new string\n",
    "        new_string += our_string[(len(our_string)-1)-i]\n",
    "\n",
    "    # Return our solution\n",
    "    return new_string\n",
    "\n",
    "\n",
    "# Test Cases\n",
    "\n",
    "print (\"Pass\" if ('retaw' == string_reverser('water')) else \"Fail\")\n",
    "print (\"Pass\" if ('!noitalupinam gnirts gnicitcarP' == string_reverser('Practicing string manipulation!')) else \"Fail\")\n",
    "print (\"Pass\" if ('3432 :si edoc esuoh ehT' == string_reverser('The house code is: 2343')) else \"Fail\")\n"
   ]
  },
  {
   "cell_type": "markdown",
   "metadata": {
    "graffitiCellId": "id_sz1uyhy"
   },
   "source": [
    "#### Exercise 2.  Anagrams"
   ]
  },
  {
   "cell_type": "markdown",
   "metadata": {
    "graffitiCellId": "id_v8jn802"
   },
   "source": [
    "The goal of this exercise is to write some code to determine if two strings are anagrams of each other.\n",
    "\n",
    "An anagram is a word (or phrase) that is formed by rearranging the letters of another word (or phrase).\n",
    "\n",
    "For example:\n",
    "- \"rat\" is an anagram of \"art\"\n",
    "- \"alert\" is an anagram of \"alter\"\n",
    "- \"Slot machines\" is an anagram of \"Cash lost in me\"\n",
    "\n",
    "Your function should take two strings as input and return `True` if the two words are anagrams and `False` if they are not.\n",
    "\n",
    "You can assume the following about the input strings:\n",
    "- No punctuation\n",
    "- No numbers\n",
    "- No special characters\n",
    "\n",
    "Note - You can use built-in methods `len()`, `lower()` and `sort()` on strings. "
   ]
  },
  {
   "cell_type": "code",
   "execution_count": 26,
   "metadata": {
    "graffitiCellId": "id_96z89ik"
   },
   "outputs": [],
   "source": [
    "# Code\n",
    "\n",
    "def anagram_checker(str1, str2):\n",
    "\n",
    "    \"\"\"\n",
    "    Check if the input strings are anagrams of each other\n",
    "\n",
    "    Args:\n",
    "       str1(string),str2(string): Strings to be checked\n",
    "    Returns:\n",
    "       bool: Indicates whether strings are anagrams\n",
    "    \"\"\"\n",
    "    \n",
    "    # TODO: Write your solution here\n",
    "    str1 = sorted(str1.replace(\" \", \"\").lower())\n",
    "    str2 = sorted(str2.replace(\" \", \"\").lower())\n",
    "    \n",
    "    return str1 == str2"
   ]
  },
  {
   "cell_type": "code",
   "execution_count": 27,
   "metadata": {
    "graffitiCellId": "id_f1eekl6"
   },
   "outputs": [
    {
     "name": "stdout",
     "output_type": "stream",
     "text": [
      "Pass\n",
      "Pass\n",
      "Pass\n",
      "Pass\n",
      "Pass\n"
     ]
    }
   ],
   "source": [
    "# Test Cases\n",
    "\n",
    "print (\"Pass\" if not (anagram_checker('water','waiter')) else \"Fail\")\n",
    "print (\"Pass\" if anagram_checker('Dormitory','Dirty room') else \"Fail\")\n",
    "print (\"Pass\" if anagram_checker('Slot machines', 'Cash lost in me') else \"Fail\")\n",
    "print (\"Pass\" if not (anagram_checker('A gentleman','Elegant men')) else \"Fail\")\n",
    "print (\"Pass\" if anagram_checker('Time and tide wait for no man','Notified madman into water') else \"Fail\")"
   ]
  },
  {
   "cell_type": "markdown",
   "metadata": {
    "graffitiCellId": "id_hnedbqz"
   },
   "source": [
    "<span class=\"graffiti-highlight graffiti-id_hnedbqz-id_0ifjb4r\"><i></i><button>Hide Solution</button></span>"
   ]
  },
  {
   "cell_type": "code",
   "execution_count": null,
   "metadata": {
    "graffitiCellId": "id_0ifjb4r"
   },
   "outputs": [],
   "source": [
    "# Solution\n",
    "\n",
    "def anagram_checker(str1, str2):\n",
    "\n",
    "    \"\"\"\n",
    "    Check if the input strings are anagrams\n",
    "\n",
    "    Args:\n",
    "       str1(string),str2(string): Strings to be checked if they are anagrams\n",
    "    Returns:\n",
    "       bool: If strings are anagrams or not\n",
    "    \"\"\"\n",
    "\n",
    "    if len(str1) != len(str2):\n",
    "        # Clean strings\n",
    "        clean_str_1 = str1.replace(\" \", \"\").lower()\n",
    "        clean_str_2 = str2.replace(\" \", \"\").lower()\n",
    "\n",
    "        if sorted(clean_str_1) == sorted(clean_str_2):\n",
    "            return True\n",
    "\n",
    "    return False\n",
    "\n",
    "\n",
    "print (\"Pass\" if not (anagram_checker('water','waiter')) else \"Fail\")\n",
    "print (\"Pass\" if anagram_checker('Dormitory','Dirty room') else \"Fail\")\n",
    "print (\"Pass\" if anagram_checker('Slot machines', 'Cash lost in me') else \"Fail\")\n",
    "print (\"Pass\" if not (anagram_checker('A gentleman','Elegant men')) else \"Fail\")\n",
    "print (\"Pass\" if anagram_checker('Time and tide wait for no man','Notified madman into water') else \"Fail\")\n"
   ]
  },
  {
   "cell_type": "markdown",
   "metadata": {
    "graffitiCellId": "id_tz5wudt"
   },
   "source": [
    "#### Exercise 3.  Reverse the words in sentence"
   ]
  },
  {
   "cell_type": "markdown",
   "metadata": {
    "graffitiCellId": "id_ggu54in"
   },
   "source": [
    "Given a sentence, reverse each word in the sentence while keeping the order the same!"
   ]
  },
  {
   "cell_type": "code",
   "execution_count": 36,
   "metadata": {
    "graffitiCellId": "id_8datqoy"
   },
   "outputs": [],
   "source": [
    "# Code \n",
    "\n",
    "def word_flipper(our_string):\n",
    "\n",
    "    \"\"\"\n",
    "    Flip the individual words in a sentence\n",
    "\n",
    "    Args:\n",
    "       our_string(string): String with words to flip\n",
    "    Returns:\n",
    "       string: String with words flipped\n",
    "    \"\"\"\n",
    "    \n",
    "    # TODO: Write your solution here\n",
    "    words = our_string.split(\" \")\n",
    "    for i in range(len(words)):\n",
    "        words[i] = words[i][::-1]\n",
    "        \n",
    "    flip_string = \" \".join(words)\n",
    "    return flip_string    "
   ]
  },
  {
   "cell_type": "code",
   "execution_count": 37,
   "metadata": {
    "graffitiCellId": "id_0rpbyd2"
   },
   "outputs": [
    {
     "name": "stdout",
     "output_type": "stream",
     "text": [
      "Pass\n",
      "Pass\n",
      "Pass\n"
     ]
    }
   ],
   "source": [
    "# Test Cases\n",
    "\n",
    "print (\"Pass\" if ('retaw' == word_flipper('water')) else \"Fail\")\n",
    "print (\"Pass\" if ('sihT si na elpmaxe' == word_flipper('This is an example')) else \"Fail\")\n",
    "print (\"Pass\" if ('sihT si eno llams pets rof ...' == word_flipper('This is one small step for ...')) else \"Fail\")"
   ]
  },
  {
   "cell_type": "markdown",
   "metadata": {
    "graffitiCellId": "id_ttzcm4k"
   },
   "source": [
    "<span class=\"graffiti-highlight graffiti-id_ttzcm4k-id_m6frlmt\"><i></i><button>Hide Solution</button></span>"
   ]
  },
  {
   "cell_type": "code",
   "execution_count": 38,
   "metadata": {
    "graffitiCellId": "id_m6frlmt"
   },
   "outputs": [
    {
     "name": "stdout",
     "output_type": "stream",
     "text": [
      "Pass\n",
      "Pass\n",
      "Pass\n"
     ]
    }
   ],
   "source": [
    "# Solution\n",
    "\n",
    "def word_flipper(our_string):\n",
    "\n",
    "    \"\"\"\n",
    "    Flip the individual words in a sentence\n",
    "\n",
    "    Args:\n",
    "       our_string(string): Strings to have individual words flip\n",
    "    Returns:\n",
    "       string: String with words flipped\n",
    "    \"\"\"\n",
    "\n",
    "    word_list = our_string.split(\" \")\n",
    "\n",
    "    for idx in range(len(word_list)):\n",
    "        word_list[idx] = word_list[idx][::-1]\n",
    "\n",
    "    return \" \".join(word_list)\n",
    "\n",
    "print (\"Pass\" if ('retaw' == word_flipper('water')) else \"Fail\")\n",
    "print (\"Pass\" if ('sihT si na elpmaxe' == word_flipper('This is an example')) else \"Fail\")\n",
    "print (\"Pass\" if ('sihT si eno llams pets rof ...' == word_flipper('This is one small step for ...')) else \"Fail\")\n"
   ]
  },
  {
   "cell_type": "markdown",
   "metadata": {
    "graffitiCellId": "id_4422nbp"
   },
   "source": [
    "#### Exercise 4.  Hamming Distance"
   ]
  },
  {
   "cell_type": "markdown",
   "metadata": {
    "graffitiCellId": "id_fz4qros"
   },
   "source": [
    "In information theory, the Hamming distance between two strings of equal length is the number of positions at which the corresponding symbols are different. Calculate the Hamming distace for the following test cases."
   ]
  },
  {
   "cell_type": "code",
   "execution_count": 47,
   "metadata": {
    "graffitiCellId": "id_a0xltk3"
   },
   "outputs": [
    {
     "data": {
      "text/plain": [
       "10"
      ]
     },
     "execution_count": 47,
     "metadata": {},
     "output_type": "execute_result"
    }
   ],
   "source": [
    "# Code\n",
    "\n",
    "def hamming_distance(str1, str2):\n",
    "\n",
    "    \"\"\"\n",
    "    Calculate the hamming distance of the two strings\n",
    "\n",
    "    Args:\n",
    "       str1(string),str2(string): Strings to be used for finding the hamming distance\n",
    "    Returns:\n",
    "       int: Hamming Distance\n",
    "    \"\"\"\n",
    "    \n",
    "    # TODO: Write your solution here\n",
    "    count = 0\n",
    "    if len(str1) == len(str2):\n",
    "        for i in range(len(str1)):\n",
    "            if str1[i] != str2[i]:\n",
    "                count += 1\n",
    "        return count \n",
    "    else:\n",
    "        return None"
   ]
  },
  {
   "cell_type": "code",
   "execution_count": null,
   "metadata": {
    "graffitiCellId": "id_veqz7xs"
   },
   "outputs": [],
   "source": [
    "import shutil\n",
    "shutil.make_archive('string', 'zip', '../string')"
   ]
  },
  {
   "cell_type": "code",
   "execution_count": 48,
   "metadata": {
    "graffitiCellId": "id_9vbn2ol"
   },
   "outputs": [
    {
     "name": "stdout",
     "output_type": "stream",
     "text": [
      "Pass\n",
      "Pass\n",
      "Pass\n",
      "Pass\n",
      "Pass\n"
     ]
    }
   ],
   "source": [
    "# Test Cases\n",
    "\n",
    "print (\"Pass\" if (10 == hamming_distance('ACTTGACCGGG','GATCCGGTACA')) else \"Fail\")\n",
    "print (\"Pass\" if  (1 == hamming_distance('shove','stove')) else \"Fail\")\n",
    "print (\"Pass\" if  (None == hamming_distance('Slot machines', 'Cash lost in me')) else \"Fail\")\n",
    "print (\"Pass\" if  (9 == hamming_distance('A gentleman','Elegant men')) else \"Fail\")\n",
    "print (\"Pass\" if  (2 == hamming_distance('0101010100011101','0101010100010001')) else \"Fail\")"
   ]
  },
  {
   "cell_type": "markdown",
   "metadata": {
    "graffitiCellId": "id_uor0wb6"
   },
   "source": [
    "<span class=\"graffiti-highlight graffiti-id_kddwu3s-id_u1nzuf0\"><i></i><button>Hide Solution</button></span>"
   ]
  },
  {
   "cell_type": "code",
   "execution_count": null,
   "metadata": {
    "graffitiCellId": "id_u1nzuf0"
   },
   "outputs": [],
   "source": [
    "# Solution\n",
    "\n",
    "def hamming_distance(str1, str2):\n",
    "\n",
    "    \"\"\"\n",
    "    Calculate the hamming distance of the two strings\n",
    "\n",
    "    Args:\n",
    "       str1(string),str2(string): Strings to be used for finding the hamming distance\n",
    "    Returns:\n",
    "       int: Hamming Distance\n",
    "    \"\"\"\n",
    "\n",
    "    if len(str1) == len(str2):\n",
    "        count = 0\n",
    "\n",
    "        for char in range(len(str1)):\n",
    "            if str1[char] != str2[char]:\n",
    "                count+=1\n",
    "\n",
    "        return count\n",
    "\n",
    "    return None\n",
    "\n",
    "\n",
    "\n",
    "print (\"Pass\" if (10 == hamming_distance('ACTTGACCGGG','GATCCGGTACA')) else \"Fail\")\n",
    "print (\"Pass\" if  (1 == hamming_distance('shove','stove')) else \"Fail\")\n",
    "print (\"Pass\" if  (None == hamming_distance('Slot machines', 'Cash lost in me')) else \"Fail\")\n",
    "print (\"Pass\" if  (9 == hamming_distance('A gentleman','Elegant men')) else \"Fail\")\n",
    "print (\"Pass\" if  (2 == hamming_distance('0101010100011101','0101010100010001')) else \"Fail\")\n"
   ]
  }
 ],
 "metadata": {
  "graffiti": {
   "firstAuthorId": "10694620118",
   "id": "id_cwbhghd",
   "language": "EN"
  },
  "kernelspec": {
   "display_name": "Python 3",
   "language": "python",
   "name": "python3"
  },
  "language_info": {
   "codemirror_mode": {
    "name": "ipython",
    "version": 3
   },
   "file_extension": ".py",
   "mimetype": "text/x-python",
   "name": "python",
   "nbconvert_exporter": "python",
   "pygments_lexer": "ipython3",
   "version": "3.6.3"
  },
  "widgets": {
   "state": {},
   "version": "1.1.2"
  }
 },
 "nbformat": 4,
 "nbformat_minor": 2
}
